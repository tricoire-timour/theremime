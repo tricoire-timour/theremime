{
 "cells": [
  {
   "cell_type": "code",
   "execution_count": null,
   "metadata": {},
   "outputs": [
    {
     "name": "stdout",
     "output_type": "stream",
     "text": [
      "Requirement already satisfied: opencv-python in c:\\users\\timcd\\appdata\\local\\programs\\python\\python310\\lib\\site-packages (4.11.0.86)\n",
      "Requirement already satisfied: numpy>=1.17.3 in c:\\users\\timcd\\appdata\\local\\programs\\python\\python310\\lib\\site-packages (from opencv-python) (1.26.4)\n",
      "Note: you may need to restart the kernel to use updated packages.\n"
     ]
    },
    {
     "name": "stderr",
     "output_type": "stream",
     "text": [
      "WARNING: You are using pip version 21.2.3; however, version 25.0.1 is available.\n",
      "You should consider upgrading via the 'c:\\Users\\timcd\\AppData\\Local\\Programs\\Python\\Python310\\python.exe -m pip install --upgrade pip' command.\n"
     ]
    },
    {
     "name": "stdout",
     "output_type": "stream",
     "text": [
      "Requirement already satisfied: mediapipe in c:\\users\\timcd\\appdata\\local\\programs\\python\\python310\\lib\\site-packages (0.10.21)\n",
      "Requirement already satisfied: attrs>=19.1.0 in c:\\users\\timcd\\appdata\\local\\programs\\python\\python310\\lib\\site-packages (from mediapipe) (25.3.0)\n",
      "Requirement already satisfied: sentencepiece in c:\\users\\timcd\\appdata\\local\\programs\\python\\python310\\lib\\site-packages (from mediapipe) (0.2.0)\n",
      "Requirement already satisfied: sounddevice>=0.4.4 in c:\\users\\timcd\\appdata\\local\\programs\\python\\python310\\lib\\site-packages (from mediapipe) (0.5.1)\n",
      "Requirement already satisfied: numpy<2 in c:\\users\\timcd\\appdata\\local\\programs\\python\\python310\\lib\\site-packages (from mediapipe) (1.26.4)\n",
      "Requirement already satisfied: protobuf<5,>=4.25.3 in c:\\users\\timcd\\appdata\\local\\programs\\python\\python310\\lib\\site-packages (from mediapipe) (4.25.6)\n",
      "Requirement already satisfied: matplotlib in c:\\users\\timcd\\appdata\\local\\programs\\python\\python310\\lib\\site-packages (from mediapipe) (3.10.1)\n",
      "Requirement already satisfied: absl-py in c:\\users\\timcd\\appdata\\local\\programs\\python\\python310\\lib\\site-packages (from mediapipe) (2.1.0)\n",
      "Requirement already satisfied: opencv-contrib-python in c:\\users\\timcd\\appdata\\local\\programs\\python\\python310\\lib\\site-packages (from mediapipe) (4.11.0.86)\n",
      "Requirement already satisfied: flatbuffers>=2.0 in c:\\users\\timcd\\appdata\\local\\programs\\python\\python310\\lib\\site-packages (from mediapipe) (25.2.10)\n",
      "Requirement already satisfied: jaxlib in c:\\users\\timcd\\appdata\\local\\programs\\python\\python310\\lib\\site-packages (from mediapipe) (0.5.1)\n",
      "Requirement already satisfied: jax in c:\\users\\timcd\\appdata\\local\\programs\\python\\python310\\lib\\site-packages (from mediapipe) (0.5.2)\n",
      "Requirement already satisfied: CFFI>=1.0 in c:\\users\\timcd\\appdata\\local\\programs\\python\\python310\\lib\\site-packages (from sounddevice>=0.4.4->mediapipe) (1.17.1)\n",
      "Requirement already satisfied: pycparser in c:\\users\\timcd\\appdata\\local\\programs\\python\\python310\\lib\\site-packages (from CFFI>=1.0->sounddevice>=0.4.4->mediapipe) (2.22)\n",
      "Requirement already satisfied: opt_einsum in c:\\users\\timcd\\appdata\\local\\programs\\python\\python310\\lib\\site-packages (from jax->mediapipe) (3.4.0)\n",
      "Requirement already satisfied: scipy>=1.11.1 in c:\\users\\timcd\\appdata\\local\\programs\\python\\python310\\lib\\site-packages (from jax->mediapipe) (1.15.2)\n",
      "Requirement already satisfied: ml_dtypes>=0.4.0 in c:\\users\\timcd\\appdata\\local\\programs\\python\\python310\\lib\\site-packages (from jax->mediapipe) (0.5.1)\n",
      "Requirement already satisfied: pyparsing>=2.3.1 in c:\\users\\timcd\\appdata\\local\\programs\\python\\python310\\lib\\site-packages (from matplotlib->mediapipe) (3.2.1)\n",
      "Requirement already satisfied: fonttools>=4.22.0 in c:\\users\\timcd\\appdata\\local\\programs\\python\\python310\\lib\\site-packages (from matplotlib->mediapipe) (4.56.0)\n",
      "Requirement already satisfied: pillow>=8 in c:\\users\\timcd\\appdata\\local\\programs\\python\\python310\\lib\\site-packages (from matplotlib->mediapipe) (11.1.0)\n",
      "Requirement already satisfied: python-dateutil>=2.7 in c:\\users\\timcd\\appdata\\roaming\\python\\python310\\site-packages (from matplotlib->mediapipe) (2.9.0.post0)\n",
      "Requirement already satisfied: kiwisolver>=1.3.1 in c:\\users\\timcd\\appdata\\local\\programs\\python\\python310\\lib\\site-packages (from matplotlib->mediapipe) (1.4.8)\n",
      "Requirement already satisfied: cycler>=0.10 in c:\\users\\timcd\\appdata\\local\\programs\\python\\python310\\lib\\site-packages (from matplotlib->mediapipe) (0.12.1)\n",
      "Requirement already satisfied: contourpy>=1.0.1 in c:\\users\\timcd\\appdata\\local\\programs\\python\\python310\\lib\\site-packages (from matplotlib->mediapipe) (1.3.1)\n",
      "Requirement already satisfied: packaging>=20.0 in c:\\users\\timcd\\appdata\\roaming\\python\\python310\\site-packages (from matplotlib->mediapipe) (24.2)\n",
      "Requirement already satisfied: six>=1.5 in c:\\users\\timcd\\appdata\\roaming\\python\\python310\\site-packages (from python-dateutil>=2.7->matplotlib->mediapipe) (1.17.0)\n",
      "Note: you may need to restart the kernel to use updated packages.\n"
     ]
    },
    {
     "name": "stderr",
     "output_type": "stream",
     "text": [
      "WARNING: You are using pip version 21.2.3; however, version 25.0.1 is available.\n",
      "You should consider upgrading via the 'c:\\Users\\timcd\\AppData\\Local\\Programs\\Python\\Python310\\python.exe -m pip install --upgrade pip' command.\n"
     ]
    },
    {
     "name": "stdout",
     "output_type": "stream",
     "text": [
      "Requirement already satisfied: wget in c:\\users\\timcd\\appdata\\local\\programs\\python\\python310\\lib\\site-packages (3.2)\n",
      "Note: you may need to restart the kernel to use updated packages.\n"
     ]
    },
    {
     "name": "stderr",
     "output_type": "stream",
     "text": [
      "WARNING: You are using pip version 21.2.3; however, version 25.0.1 is available.\n",
      "You should consider upgrading via the 'c:\\Users\\timcd\\AppData\\Local\\Programs\\Python\\Python310\\python.exe -m pip install --upgrade pip' command.\n"
     ]
    },
    {
     "name": "stdout",
     "output_type": "stream",
     "text": [
      "Requirement already satisfied: pillow in c:\\users\\timcd\\appdata\\local\\programs\\python\\python310\\lib\\site-packages (11.1.0)\n",
      "Note: you may need to restart the kernel to use updated packages.\n"
     ]
    },
    {
     "name": "stderr",
     "output_type": "stream",
     "text": [
      "WARNING: You are using pip version 21.2.3; however, version 25.0.1 is available.\n",
      "You should consider upgrading via the 'c:\\Users\\timcd\\AppData\\Local\\Programs\\Python\\Python310\\python.exe -m pip install --upgrade pip' command.\n"
     ]
    },
    {
     "name": "stdout",
     "output_type": "stream",
     "text": [
      "Requirement already satisfied: pyaudio in c:\\users\\timcd\\appdata\\local\\programs\\python\\python310\\lib\\site-packages (0.2.14)\n",
      "Note: you may need to restart the kernel to use updated packages.\n"
     ]
    },
    {
     "name": "stderr",
     "output_type": "stream",
     "text": [
      "WARNING: You are using pip version 21.2.3; however, version 25.0.1 is available.\n",
      "You should consider upgrading via the 'c:\\Users\\timcd\\AppData\\Local\\Programs\\Python\\Python310\\python.exe -m pip install --upgrade pip' command.\n"
     ]
    }
   ],
   "source": [
    "# %%python -m pip install --upgrade pip\n",
    "# %pip install opencv-python\n",
    "# %pip install mediapipe\n",
    "# %pip install wget\n",
    "# %pip install pillow\n",
    "# %pip install pyaudio\n"
   ]
  },
  {
   "cell_type": "code",
   "execution_count": null,
   "metadata": {},
   "outputs": [
    {
     "name": "stdout",
     "output_type": "stream",
     "text": [
      "\n",
      "Saved under hand_landmarker (50).task\n"
     ]
    }
   ],
   "source": [
    "# !python -m wget https://storage.googleapis.com/mediapipe-models/hand_landmarker/hand_landmarker/float16/1/hand_landmarker.task"
   ]
  },
  {
   "cell_type": "code",
   "execution_count": 10,
   "metadata": {},
   "outputs": [],
   "source": [
    "import cv2\n",
    "import mediapipe as mp\n",
    "from mediapipe.tasks import python\n",
    "from mediapipe.tasks.python import vision\n"
   ]
  },
  {
   "cell_type": "code",
   "execution_count": null,
   "metadata": {},
   "outputs": [],
   "source": [
    "#@markdown We implemented some functions to visualize the hand landmark detection results. <br/> Run the following cell to activate the functions.\n",
    "\n",
    "from mediapipe import solutions\n",
    "from mediapipe.framework.formats import landmark_pb2\n",
    "import numpy as np\n",
    "\n",
    "def flip_lr_names(name):\n",
    "  match name:\n",
    "    case \"Left\":\n",
    "      return \"Right\"\n",
    "    case \"Right\":\n",
    "      return \"Left\"\n",
    "\n",
    "MARGIN = 10  # pixels\n",
    "FONT_SIZE = 1\n",
    "FONT_THICKNESS = 1\n",
    "HANDEDNESS_TEXT_COLOR = (88, 205, 54) # vibrant green\n",
    "\n",
    "def draw_landmarks_on_image(rgb_image, detection_result):\n",
    "  hand_landmarks_list = detection_result.hand_landmarks\n",
    "  handedness_list = detection_result.handedness\n",
    "  annotated_image = np.copy(rgb_image)\n",
    "\n",
    "  # Loop through the detected hands to visualize.\n",
    "  for handedness, hand_landmarks in zip(handedness_list, hand_landmarks_list):\n",
    "    # hand_landmarks = hand_landmarks_list[idx]\n",
    "    # handedness = handedness_list[idx]\n",
    "\n",
    "    # Draw the hand landmarks.\n",
    "    hand_landmarks_proto = landmark_pb2.NormalizedLandmarkList()\n",
    "    hand_landmarks_proto.landmark.extend([\n",
    "      landmark_pb2.NormalizedLandmark(x=landmark.x, y=landmark.y, z=landmark.z) for landmark in hand_landmarks\n",
    "    ])\n",
    "    solutions.drawing_utils.draw_landmarks(\n",
    "      annotated_image,\n",
    "      hand_landmarks_proto,\n",
    "      solutions.hands.HAND_CONNECTIONS,\n",
    "      solutions.drawing_styles.get_default_hand_landmarks_style(),\n",
    "      solutions.drawing_styles.get_default_hand_connections_style())\n",
    "\n",
    "    # Get the top left corner of the detected hand's bounding box.\n",
    "    height, width, _ = annotated_image.shape\n",
    "    x_coordinates = [landmark.x for landmark in hand_landmarks]\n",
    "    y_coordinates = [landmark.y for landmark in hand_landmarks]\n",
    "    text_x = int(min(x_coordinates) * width)\n",
    "    text_y = int(min(y_coordinates) * height) - MARGIN\n",
    "\n",
    "    # Draw handedness (left or right hand) on the image.\n",
    "\n",
    "    cv2.putText(annotated_image, f\"{flip_lr_names(handedness[0].category_name)}\",\n",
    "                (text_x, text_y), cv2.FONT_HERSHEY_DUPLEX,\n",
    "                FONT_SIZE, HANDEDNESS_TEXT_COLOR, FONT_THICKNESS, cv2.LINE_AA)\n",
    "\n",
    "  return annotated_image"
   ]
  },
  {
   "cell_type": "code",
   "execution_count": 12,
   "metadata": {},
   "outputs": [],
   "source": [
    "import numpy as np\n",
    "import pyaudio\n",
    "\n",
    "\n",
    "class SineOscillator:\n",
    "    def __init__(self, sample_rate, duration, frequency_factor=1, volume_factor=1):\n",
    "        self.fs = sample_rate  \n",
    "        self.duration = duration\n",
    "        self.frequency_factor = frequency_factor\n",
    "        self.volume_factor = volume_factor\n",
    "\n",
    "    def __call__(self, frequency):\n",
    "        return (np.sin(2 * np.pi * np.arange(self.fs * self.duration) * frequency * self.frequency_factor / self.fs)).astype(np.float32) * self.volume_factor\n",
    "    \n",
    "def hanning_window(length, volume):\n",
    "    window = np.hanning(length).astype(np.float32)\n",
    "\n",
    "    return window * volume\n",
    "\n",
    "def rect_window(length, volume):\n",
    "    fade_duration = 0.002\n",
    "    fade_samples = int(self.fs * fade_duration)\n",
    "    base = np.ones(length).astype(np.float32) * volume\n",
    "    base[:fade_samples] = np.linspace(0, volume, fade_samples)\n",
    "    base[-fade_samples:] = np.linspace(volume, 0, fade_samples)\n",
    "    return base\n",
    "\n",
    "class Synthesizer:\n",
    "    def __init__(self, sampling_rate, duration):\n",
    "        self.fs = sampling_rate\n",
    "        self.duration = duration\n",
    "        self.previous_frequency = None\n",
    "        self.previous_volume = None\n",
    "    \n",
    "    def get_volume(self, volume):\n",
    "        if volume is None and self.previous_volume is not None:\n",
    "            volume = self.previous_volume\n",
    "        else :\n",
    "            self.previous_volume = volume\n",
    "        return volume\n",
    "    \n",
    "    def get_frequency(self, frequency):\n",
    "        if frequency is None and self.previous_frequency is not None:\n",
    "            frequency = self.previous_frequency\n",
    "        else :\n",
    "            self.previous_frequency = frequency\n",
    "        return frequency\n",
    "\n",
    "class SineSynthesizer(Synthesizer):\n",
    "    def __init__(self, sampling_rate, duration):\n",
    "        super().__init__(sampling_rate)\n",
    "        self.oscillator = SineOscillator(self.fs, self.duration)\n",
    "        self.window = hanning_window  \n",
    "        \n",
    "    def get_waveform(self, frequency, volume):\n",
    "        volume = self.get_volume(volume)\n",
    "        frequency = self.get_frequency(frequency)\n",
    "\n",
    "        if frequency is None or volume is None:\n",
    "            return # nothing I can do\n",
    "        \n",
    "        samples = self.oscillator(frequency)\n",
    "        window = self.window(len(samples), volume)\n",
    "        return samples * window\n",
    "\n",
    "class DoubleSineSynthesizer(Synthesizer):\n",
    "    def __init__(self, sampling_rate, duration):\n",
    "        super().__init__(sampling_rate, duration)\n",
    "        self.oscillator = SineOscillator(self.fs, self.duration)\n",
    "        self.oscillator2 = SineOscillator(self.fs, self.duration, 0.5, 0.5)\n",
    "        self.window = hanning_window  \n",
    "    \n",
    "    def get_waveform(self, frequency, volume):\n",
    "        volume = self.get_volume(volume)\n",
    "        frequency = self.get_frequency(frequency)\n",
    "\n",
    "        if frequency is None or volume is None:\n",
    "            return # nothing I can do\n",
    "        \n",
    "        samples1 = self.oscillator(frequency)\n",
    "        samples2 = self.oscillator2(frequency)\n",
    "        window = self.window(len(samples1), volume)\n",
    "        return (samples1 + samples2) * window/2\n",
    "\n",
    "class Player:\n",
    "    def __init__(self):\n",
    "        self.p = pyaudio.PyAudio()\n",
    "        self.fs = 44100  # sampling rate, Hz, must be integer\n",
    "        self.synth = DoubleSineSynthesizer(self.fs, 0.19)\n",
    "        self.duration = 0.19\n",
    "        self.stream = self.p.open(format=pyaudio.paFloat32,\n",
    "                                channels=1,\n",
    "                                rate=self.fs,\n",
    "                                output=True)\n",
    "\n",
    "\n",
    "    def play_note(self, frequency, volume):\n",
    "        waveform = self.synth.get_waveform(frequency, volume)\n",
    "        if waveform is None:\n",
    "            return\n",
    "        output_bytes = (waveform).tobytes() \n",
    "        self.stream.write(output_bytes)\n",
    "\n",
    "    def __del__(self):\n",
    "        self.stream.stop_stream()\n",
    "        self.stream.close()\n",
    "        self.p.terminate()"
   ]
  },
  {
   "cell_type": "code",
   "execution_count": 13,
   "metadata": {},
   "outputs": [],
   "source": [
    "from statistics import mean\n",
    "\n",
    "\n",
    "def get_hands(detection_result):\n",
    "    # DEFAULT_VOLUME = 1.0\n",
    "    KEY = 261.63\n",
    "    SCALE_FACTOR = 72\n",
    "    HALF_TONE = 2 ** (1/12)\n",
    "\n",
    "    left_points = None\n",
    "    right_points = None\n",
    "\n",
    "    for handedness, hand_landmarks in zip(detection_result.handedness, detection_result.hand_landmarks):\n",
    "        if handedness[0].category_name == 'Left':\n",
    "            right_points = hand_landmarks\n",
    "        else:\n",
    "            left_points = hand_landmarks\n",
    "\n",
    "    volume = mean(point.y for point in left_points) if left_points else None\n",
    "    x_mean = mean(point.x for point in right_points) if right_points else None\n",
    "    if x_mean is None:\n",
    "        return None, volume\n",
    "    freq = KEY * HALF_TONE ** (SCALE_FACTOR * (x_mean - 0.25))\n",
    "    if volume is None:\n",
    "        return freq, None\n",
    "    return freq, volume\n",
    "    "
   ]
  },
  {
   "cell_type": "code",
   "execution_count": 16,
   "metadata": {},
   "outputs": [],
   "source": [
    "webcam = 1\n",
    "window_name = f\"test {webcam}\"\n",
    "\n",
    "# 20 ms = 0.02s \n",
    "# 1/0.02 = 50\n",
    "\n",
    "\n",
    "synth = Player()\n",
    "\n",
    "# Create Landmarker\n",
    "base_options = python.BaseOptions(model_asset_path='hand_landmarker.task')\n",
    "options = vision.HandLandmarkerOptions(base_options=base_options,\n",
    "                                       num_hands=2)\n",
    "detector = vision.HandLandmarker.create_from_options(options)\n",
    "\n",
    "cv2.namedWindow(window_name)\n",
    "vc = cv2.VideoCapture(webcam)\n",
    "\n",
    "if vc.isOpened(): # try to get the first frame\n",
    "    rval, frame = vc.read()\n",
    "else:\n",
    "    rval = False\n",
    "\n",
    "while rval:\n",
    "    rval, frame = vc.read()\n",
    "\n",
    "    frame = cv2.flip(frame, 1)\n",
    "    image = mp.Image(data=np.array(frame), image_format=mp.ImageFormat.SRGB)\n",
    "\n",
    "    detection_result = detector.detect(image)\n",
    "\n",
    "    annotated_image = draw_landmarks_on_image(image.numpy_view(), detection_result)\n",
    "    \n",
    "    cv2.imshow(window_name, cv2.cvtColor(annotated_image, cv2.COLOR_RGB2RGBA))\n",
    "    \n",
    "    key = cv2.waitKey(1)\n",
    "    if key in [27, 32]: # exit on ESC or SPACE\n",
    "        break\n",
    "\n",
    "    freq, volume = get_hands(detection_result) \n",
    "    synth.play_note(freq, volume)\n",
    "        \n",
    "    \n",
    "vc.release()\n",
    "cv2.destroyWindow(window_name)\n",
    "del synth"
   ]
  }
 ],
 "metadata": {
  "kernelspec": {
   "display_name": "Python 3",
   "language": "python",
   "name": "python3"
  },
  "language_info": {
   "codemirror_mode": {
    "name": "ipython",
    "version": 3
   },
   "file_extension": ".py",
   "mimetype": "text/x-python",
   "name": "python",
   "nbconvert_exporter": "python",
   "pygments_lexer": "ipython3",
   "version": "3.10.0"
  }
 },
 "nbformat": 4,
 "nbformat_minor": 2
}
